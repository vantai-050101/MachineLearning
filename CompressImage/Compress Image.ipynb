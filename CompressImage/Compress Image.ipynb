{
 "cells": [
  {
   "cell_type": "code",
   "execution_count": 1,
   "metadata": {},
   "outputs": [],
   "source": [
    "import numpy as np\n",
    "import cv2\n",
    "import matplotlib.pyplot as plt"
   ]
  },
  {
   "cell_type": "code",
   "execution_count": 2,
   "metadata": {},
   "outputs": [],
   "source": [
    "path = 'elephent.jpg'\n",
    "image = cv2.imread(path, cv2.IMREAD_GRAYSCALE)\n",
    "m, n = image.shape\n",
    "U, Z, vt = np.linalg.svd(image)"
   ]
  },
  {
   "cell_type": "code",
   "execution_count": 6,
   "metadata": {},
   "outputs": [],
   "source": [
    "def r(k):\n",
    "    return k * ( m + n + 1) / ( m * n)\n",
    "def compressImage(U, Z, vt, k):\n",
    "    return np.array((np.dot(U[:, : k], np.dot(np.diag(Z[:k]), vt[:k, :]))), dtype=np.uint8)"
   ]
  },
  {
   "cell_type": "code",
   "execution_count": 10,
   "metadata": {},
   "outputs": [
    {
     "name": "stdout",
     "output_type": "stream",
     "text": [
      "0.08338888888888889\n",
      "0.16677777777777777\n",
      "0.25016666666666665\n",
      "0.33355555555555555\n",
      "0.41694444444444445\n",
      "0.5003333333333333\n",
      "0.5837222222222223\n",
      "0.6671111111111111\n",
      "0.7505\n",
      "0.8338888888888889\n",
      "0.9172777777777777\n",
      "1.0006666666666666\n",
      "1.0840555555555556\n",
      "1.1674444444444445\n"
     ]
    }
   ],
   "source": [
    "k = [i * 30 for i in range(1, 15)]\n",
    "for i in k:\n",
    "    print(r(i))\n",
    "    cv2.imshow('image', compressImage(U, Z, vt, i))\n",
    "    cv2.waitKey(0)\n",
    "    cv2.destroyAllWindows()"
   ]
  }
 ],
 "metadata": {
  "kernelspec": {
   "display_name": "Python 3",
   "language": "python",
   "name": "python3"
  },
  "language_info": {
   "codemirror_mode": {
    "name": "ipython",
    "version": 3
   },
   "file_extension": ".py",
   "mimetype": "text/x-python",
   "name": "python",
   "nbconvert_exporter": "python",
   "pygments_lexer": "ipython3",
   "version": "3.8.5"
  }
 },
 "nbformat": 4,
 "nbformat_minor": 4
}
