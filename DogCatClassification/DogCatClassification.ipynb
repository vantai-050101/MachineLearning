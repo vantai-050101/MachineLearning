{
 "cells": [
  {
   "cell_type": "code",
   "execution_count": null,
   "metadata": {},
   "outputs": [],
   "source": [
    "from sklearn.manifold import TSNE\n",
    "from sklearn.svm import SVC\n",
    "from sklearn.linear_model import LogisticRegression\n",
    "from skimage.feature import hog\n",
    "import numpy as np\n",
    "import cv2\n",
    "from tqdm import tqdm\n",
    "import seaborn as sns\n",
    "import matplotlib.pyplot as plt\n",
    "from sklearn.metrics import classification_report"
   ]
  },
  {
   "cell_type": "markdown",
   "metadata": {},
   "source": [
    "USE HOG + SVM TO CLASSIFICATE"
   ]
  },
  {
   "cell_type": "code",
   "execution_count": 2,
   "metadata": {},
   "outputs": [],
   "source": [
    "dir_train = 'DogCatDataset/training_set/training_set/'\n",
    "dir_test = 'DogCatDataset/test_set/test_set/'"
   ]
  },
  {
   "cell_type": "code",
   "execution_count": 3,
   "metadata": {},
   "outputs": [
    {
     "name": "stderr",
     "output_type": "stream",
     "text": [
      "100%|█████████████████████████████████████████████████████████████████████████████| 4000/4000 [00:08<00:00, 479.80it/s]\n",
      "100%|█████████████████████████████████████████████████████████████████████████████| 4000/4000 [00:07<00:00, 513.13it/s]\n"
     ]
    },
    {
     "name": "stdout",
     "output_type": "stream",
     "text": [
      "Shape of X_train_shape, display the first sample of X_train_shape  (8000, 3) [499 327   3]\n",
      "Mean of height images:  360.472\n",
      "Mean of weigh images:  403.801\n"
     ]
    },
    {
     "data": {
      "text/plain": [
       "<AxesSubplot:ylabel='Count'>"
      ]
     },
     "execution_count": 3,
     "metadata": {},
     "output_type": "execute_result"
    },
    {
     "data": {
      "image/png": "[encoded data removed]",
      "text/plain": [
       "<Figure size 432x288 with 2 Axes>"
      ]
     },
     "metadata": {
      "needs_background": "light"
     },
     "output_type": "display_data"
    }
   ],
   "source": [
    "X_train_shape = []\n",
    "\n",
    "for i in tqdm(range(1, 4001)):\n",
    "    img = cv2.imread(dir_train + 'dogs/dog.'+str(i)+'.jpg')\n",
    "    X_train_shape.append(img.shape)\n",
    "    \n",
    "for i in tqdm(range(1, 4001)):\n",
    "    img = cv2.imread(dir_train + 'cats/cat.'+str(i)+'.jpg')\n",
    "    X_train_shape.append(img.shape)\n",
    "\n",
    "X_train_shape = np.asarray(X_train_shape)\n",
    "print('Shape of X_train_shape, display the first sample of X_train_shape ',X_train_shape.shape, X_train_shape[0])\n",
    "\n",
    "print('Mean of height images: ', np.mean(X_train_shape[:, 0]))\n",
    "plt.subplot(1, 2, 1)\n",
    "sns.histplot(X_train_shape[:, 0], color= 'blue')\n",
    "\n",
    "print('Mean of weigh images: ', np.mean(X_train_shape[:, 1]))\n",
    "plt.subplot(1, 2, 2)\n",
    "sns.histplot(X_train_shape[:, 1], color= 'orange')"
   ]
  },
  {
   "cell_type": "code",
   "execution_count": 4,
   "metadata": {},
   "outputs": [
    {
     "name": "stderr",
     "output_type": "stream",
     "text": [
      "100%|█████████████████████████████████████████████████████████████████████████████| 4000/4000 [00:08<00:00, 469.46it/s]\n",
      "100%|█████████████████████████████████████████████████████████████████████████████| 4000/4000 [00:08<00:00, 454.39it/s]\n"
     ]
    },
    {
     "name": "stdout",
     "output_type": "stream",
     "text": [
      "Shape of images afer resize (height = 360, weigh = 400) (8000, 360, 400, 3)\n"
     ]
    }
   ],
   "source": [
    "# 0 is dog, 1 is cat\n",
    "X_train, y_train = [], []\n",
    "\n",
    "for i in tqdm(range(1, 4001)):\n",
    "    img = cv2.imread(dir_train + 'dogs/dog.'+str(i)+'.jpg')\n",
    "    img = cv2.resize(img, (400, 360))\n",
    "    X_train.append(img)\n",
    "    y_train.append(0)\n",
    "    \n",
    "    \n",
    "for i in tqdm(range(1, 4001)):\n",
    "    img = cv2.imread(dir_train + 'cats/cat.'+str(i)+'.jpg')\n",
    "    img = cv2.resize(img, (400, 360))\n",
    "    X_train.append(img)\n",
    "    y_train.append(1)\n",
    "    \n",
    "X_train = np.asarray(X_train)\n",
    "print('Shape of images afer resize (height = 360, weigh = 400)',X_train.shape)"
   ]
  },
  {
   "cell_type": "code",
   "execution_count": 5,
   "metadata": {
    "scrolled": false
   },
   "outputs": [
    {
     "name": "stderr",
     "output_type": "stream",
     "text": [
      "100%|██████████████████████████████████████████████████████████████████████████████| 8000/8000 [05:35<00:00, 23.87it/s]"
     ]
    },
    {
     "name": "stdout",
     "output_type": "stream",
     "text": [
      "Shape of X_train after using hog (8000, 810)\n"
     ]
    },
    {
     "name": "stderr",
     "output_type": "stream",
     "text": [
      "\n"
     ]
    }
   ],
   "source": [
    "X_ExtractFeature = []\n",
    "for i in tqdm(X_train):\n",
    "    tmp = hog(i, orientations= 9, pixels_per_cell= (40, 40), cells_per_block= (1, 1), multichannel= True )\n",
    "    X_ExtractFeature.append(tmp)\n",
    "X_ExtractFeature = np.asarray(X_ExtractFeature)\n",
    "print('Shape of X_train after using hog',X_ExtractFeature.shape)"
   ]
  },
  {
   "cell_type": "code",
   "execution_count": 7,
   "metadata": {},
   "outputs": [
    {
     "name": "stderr",
     "output_type": "stream",
     "text": [
      "100%|█████████████████████████████████████████████████████████████████████████████| 1000/1000 [00:02<00:00, 409.37it/s]\n",
      "100%|█████████████████████████████████████████████████████████████████████████████| 1000/1000 [00:02<00:00, 353.05it/s]\n"
     ]
    },
    {
     "name": "stdout",
     "output_type": "stream",
     "text": [
      "Shape of images afer resize (height = 360, weigh = 400), y_test (2000, 360, 400, 3)\n"
     ]
    }
   ],
   "source": [
    "# 0 is dog, 1 is cat\n",
    "X_test, y_test = [], []\n",
    "\n",
    "for i in tqdm(range(4001, 5001)):\n",
    "    img = cv2.imread(dir_test + 'dogs/dog.'+str(i)+'.jpg')\n",
    "    img = cv2.resize(img, (400, 360))\n",
    "    X_test.append(img)\n",
    "    y_test.append(0)\n",
    "    \n",
    "    \n",
    "for i in tqdm(range(4001, 5001)):\n",
    "    img = cv2.imread(dir_test + 'cats/cat.'+str(i)+'.jpg')\n",
    "    img = cv2.resize(img, (400, 360))\n",
    "    X_test.append(img)\n",
    "    y_test.append(1)\n",
    "    \n",
    "X_test, y_test = np.asarray(X_test), np.asarray(y_test)\n",
    "print('Shape of images afer resize (height = 360, weigh = 400), y_test',X_test.shape, )"
   ]
  },
  {
   "cell_type": "code",
   "execution_count": 8,
   "metadata": {},
   "outputs": [
    {
     "name": "stderr",
     "output_type": "stream",
     "text": [
      "100%|██████████████████████████████████████████████████████████████████████████████| 2000/2000 [01:28<00:00, 22.66it/s]"
     ]
    },
    {
     "name": "stdout",
     "output_type": "stream",
     "text": [
      "Shape of X_train after using hog (2000, 810)\n"
     ]
    },
    {
     "name": "stderr",
     "output_type": "stream",
     "text": [
      "\n"
     ]
    }
   ],
   "source": [
    "X_ExtractFeature_test = []\n",
    "for i in tqdm(X_test):\n",
    "    tmp = hog(i, orientations= 9, pixels_per_cell= (40, 40), cells_per_block= (1, 1), multichannel= True )\n",
    "    X_ExtractFeature_test.append(tmp)\n",
    "X_ExtractFeature_test = np.asarray(X_ExtractFeature_test)\n",
    "print('Shape of X_train after using hog',X_ExtractFeature_test.shape)"
   ]
  },
  {
   "cell_type": "code",
   "execution_count": 9,
   "metadata": {},
   "outputs": [
    {
     "data": {
      "text/plain": [
       "SVC()"
      ]
     },
     "execution_count": 9,
     "metadata": {},
     "output_type": "execute_result"
    }
   ],
   "source": [
    "model = SVC()\n",
    "model.fit(X_ExtractFeature, y_train)"
   ]
  },
  {
   "cell_type": "code",
   "execution_count": 10,
   "metadata": {},
   "outputs": [
    {
     "name": "stdout",
     "output_type": "stream",
     "text": [
      "              precision    recall  f1-score   support\n",
      "\n",
      "           0       0.72      0.72      0.72      1000\n",
      "           1       0.72      0.72      0.72      1000\n",
      "\n",
      "    accuracy                           0.72      2000\n",
      "   macro avg       0.72      0.72      0.72      2000\n",
      "weighted avg       0.72      0.72      0.72      2000\n",
      "\n"
     ]
    }
   ],
   "source": [
    "y_pre = model.predict(X_ExtractFeature_test)\n",
    "print(classification_report(y_test, y_pre))"
   ]
  }
 ],
 "metadata": {
  "kernelspec": {
   "display_name": "Python 3",
   "language": "python",
   "name": "python3"
  },
  "language_info": {
   "codemirror_mode": {
    "name": "ipython",
    "version": 3
   },
   "file_extension": ".py",
   "mimetype": "text/x-python",
   "name": "python",
   "nbconvert_exporter": "python",
   "pygments_lexer": "ipython3",
   "version": "3.8.5"
  }
 },
 "nbformat": 4,
 "nbformat_minor": 4
}
